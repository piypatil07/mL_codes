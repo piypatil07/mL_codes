{
  "nbformat": 4,
  "nbformat_minor": 0,
  "metadata": {
    "colab": {
      "provenance": []
    },
    "kernelspec": {
      "name": "python3",
      "display_name": "Python 3"
    },
    "language_info": {
      "name": "python"
    }
  },
  "cells": [
    {
      "cell_type": "code",
      "execution_count": 2,
      "metadata": {
        "colab": {
          "base_uri": "https://localhost:8080/"
        },
        "id": "RyqCKiLJSPei",
        "outputId": "cfe94a01-413b-48b5-b787-f4d3e6124d2f"
      },
      "outputs": [
        {
          "output_type": "stream",
          "name": "stdout",
          "text": [
            "---Gaussian Naive Bayes---\n",
            "Accuracy of Gaussian Naive Bayes: 0.9333333333333333\n",
            "Precision of Gaussian Naive Bayes: 0.9352007469654529\n",
            "Recall of Gaussian Naive Bayes: 0.9333333333333333\n",
            "F1-Score of Gaussian Naive Bayes: 0.933615520282187\n"
          ]
        }
      ],
      "source": [
        "#EXP - supervised learning model\n",
        "#Importing the required libraries\n",
        "import numpy as np\n",
        "import pandas as pd\n",
        "from sklearn.model_selection import train_test_split\n",
        "from sklearn.metrics import accuracy_score, precision_score, recall_score, f1_score\n",
        "from sklearn import datasets\n",
        "from sklearn import svm\n",
        "from sklearn.tree import DecisionTreeClassifier\n",
        "from sklearn.naive_bayes import GaussianNB\n",
        "# import the iris dataset\n",
        "iris = datasets.load_iris()\n",
        "x = iris.data\n",
        "y = iris.target\n",
        "# splitting X and y into training and testing sets\n",
        "x_train, x_test, y_train, y_test = train_test_split(x, y, test_size=0.3,\n",
        "random_state=1)\n",
        "# GAUSSIAN NAIVE BAYES\n",
        "gnb = GaussianNB()\n",
        "# train the model\n",
        "gnb.fit(x_train, y_train)\n",
        "# make predictions\n",
        "gnb_pred = gnb.predict(x_test)\n",
        "# print the accuracy\n",
        "print(\"---Gaussian Naive Bayes---\")\n",
        "print(f\"Accuracy of Gaussian Naive Bayes: {accuracy_score(y_test, gnb_pred)}\")\n",
        "# print other performance metrics\n",
        "print(f\"Precision of Gaussian Naive Bayes: {precision_score(y_test, gnb_pred,average='weighted')}\")\n",
        "print(f\"Recall of Gaussian Naive Bayes: {recall_score(y_test, gnb_pred,average='weighted')}\")\n",
        "print(f\"F1-Score of Gaussian Naive Bayes: {f1_score(y_test, gnb_pred,average='weighted')}\")\n"
      ]
    },
    {
      "cell_type": "code",
      "source": [
        "# DECISION TREE CLASSIFIER\n",
        "dt = DecisionTreeClassifier(random_state=0)\n",
        "# train the model\n",
        "dt.fit(x_train, y_train)\n",
        "# make predictions\n",
        "dt_pred = dt.predict(x_test)\n",
        "# print the accuracy\n",
        "print(\"---Decision Tree Classifier---\")\n",
        "print(f\"Accuracy of Decision Tree Classifier: {accuracy_score(y_test, dt_pred)}\")\n",
        "# print other performance metrics"
      ],
      "metadata": {
        "colab": {
          "base_uri": "https://localhost:8080/"
        },
        "id": "HoMlfJJbSWo5",
        "outputId": "4c97b9e6-14f4-4cdf-9e37-be096cb182b7"
      },
      "execution_count": 3,
      "outputs": [
        {
          "output_type": "stream",
          "name": "stdout",
          "text": [
            "---Decision Tree Classifier---\n",
            "Accuracy of Decision Tree Classifier: 0.9555555555555556\n"
          ]
        }
      ]
    },
    {
      "cell_type": "code",
      "source": [
        "# SUPPORT VECTOR MACHINE\n",
        "svm_clf = svm.SVC(kernel='linear') # Linear Kernel\n",
        "# train the model\n",
        "svm_clf.fit(x_train, y_train)\n",
        "# make predictions\n",
        "svm_clf_pred = svm_clf.predict(x_test)\n",
        "# print the accuracy\n",
        "print(\"---Support Vector Machine---\")\n",
        "print(f\"Accuracy of Support Vector Machine: {accuracy_score(y_test,svm_clf_pred)}\")\n",
        "# print other performance metrics\n",
        "print(f\"Precision of Support Vector Machine: {precision_score(y_test, svm_clf_pred,average='weighted')}\")\n",
        "print(f\"Recall of Support Vector Machine: {recall_score(y_test, svm_clf_pred,average='weighted')}\")\n",
        "print(f\"F1-Score of Support Vector Machine: {f1_score(y_test, svm_clf_pred,average='weighted')}\")"
      ],
      "metadata": {
        "colab": {
          "base_uri": "https://localhost:8080/"
        },
        "id": "OaiwDqkwS05S",
        "outputId": "d607e1d8-ccc5-43eb-913b-51c6f2ef92f3"
      },
      "execution_count": 6,
      "outputs": [
        {
          "output_type": "stream",
          "name": "stdout",
          "text": [
            "---Support Vector Machine---\n",
            "Accuracy of Support Vector Machine: 1.0\n",
            "Precision of Support Vector Machine: 1.0\n",
            "Recall of Support Vector Machine: 1.0\n",
            "F1-Score of Support Vector Machine: 1.0\n"
          ]
        }
      ]
    },
    {
      "cell_type": "code",
      "source": [
        "#EXP - RBFNN\n",
        "import numpy as np\n",
        "class RBFNN:\n",
        "    def __init__(self, kernels,centers, beta=1,lr=0.1,epochs=80) -> None:\n",
        "        self.kernels = kernels\n",
        "        self.centers = centers\n",
        "        self.beta = beta\n",
        "        self.lr = lr\n",
        "        self.epochs = epochs\n",
        "        self.W = np.random.randn(kernels,1)\n",
        "        self.b = np.random.randn(1,1)\n",
        "# to save the errors evolution\n",
        "# in case we want to check them later\n",
        "        self.errors = []\n",
        "# to save the gradients\n",
        "# calculated by the network\n",
        "# for verification reasons\n",
        "        self.gradients = []\n",
        "    def rbf_activation(self,x,center):\n",
        "        return np.exp(-self.beta*np.linalg.norm(x - center)**2)\n",
        "    def linear_activation(self,A):\n",
        "        return self.W.T.dot(A) + self.b\n",
        "    def least_square_error(self,pred,y):\n",
        "        return (y - pred).flatten()**2\n",
        "    def _forward_propagation(self,x):\n",
        "        a1 = np.array([[self.rbf_activation(x,center)] for center in self.centers])\n",
        "        a2 = self.linear_activation(a1)\n",
        "        return a2, a1\n",
        "    def _backpropagation(self, y, pred,a1):\n",
        "# Back propagation\n",
        "        dW = -(y - pred).flatten()*a1\n",
        "        db = -(y - pred).flatten()\n",
        "# Updating the weights\n",
        "        self.W = self.W -self.lr*dW\n",
        "        self.b = self.b -self.lr*db\n",
        "        return dW, db\n",
        "    def fit(self,X,Y):\n",
        "        for _ in range(self.epochs):\n",
        "            for x,y in list(zip(X,Y)):\n",
        "# Forward propagation\n",
        "                pred, a1 = self._forward_propagation(x)\n",
        "                error = self.least_square_error(pred[0],y[0,np.newaxis])\n",
        "                self.errors.append(error)\n",
        "# Back propagation\n",
        "                dW, db = self._backpropagation(y,pred,a1)\n",
        "                self.gradients.append((dW,db))\n",
        "    def predict(self,x):\n",
        "        a2,a1 = self._forward_propagation(x)\n",
        "        return 1 if np.squeeze(a2) >= 0.5 else 0\n",
        "def main():\n",
        "    x = np.array([[0,0], [0,1], [1,0], [1,1]])\n",
        "    y = np.array([[0], [1], [1], [0]])\n",
        "    rbf = RBFNN(kernels=2, centers=np.array([[0,1], [1,0]]), beta=1, lr= 0.1, epochs=80)\n",
        "    rbf.fit(x, y)\n",
        "    print(f\"RBFN weights : {rbf.W}\")\n",
        "    print(f\"RBFN bias : {rbf.b}\")\n",
        "    print()\n",
        "    print(\"-- XOR Gate --\")\n",
        "    print(f\"| 1 xor 1 : {rbf.predict(x[3])} |\")\n",
        "    print(f\"| 0 xor 0 : {rbf.predict(x[0])} |\")\n",
        "    print(f\"| 1 xor 0 : {rbf.predict(x[2])} |\")\n",
        "    print(f\"| 0 xor 1 : {rbf.predict(x[1])} |\")\n",
        "    print(\"_______________\")\n",
        "if __name__ == \"__main__\":\n",
        "    main()"
      ],
      "metadata": {
        "colab": {
          "base_uri": "https://localhost:8080/"
        },
        "id": "bQgITfGdS-IS",
        "outputId": "2e4e0fd1-ae7a-475f-c702-71766d5f32d8"
      },
      "execution_count": 7,
      "outputs": [
        {
          "output_type": "stream",
          "name": "stdout",
          "text": [
            "RBFN weights : [[0.922878  ]\n",
            " [0.87056578]]\n",
            "RBFN bias : [[-0.31380446]]\n",
            "\n",
            "-- XOR Gate --\n",
            "| 1 xor 1 : 0 |\n",
            "| 0 xor 0 : 0 |\n",
            "| 1 xor 0 : 1 |\n",
            "| 0 xor 1 : 1 |\n",
            "_______________\n"
          ]
        }
      ]
    },
    {
      "cell_type": "code",
      "source": [
        "#EXP - implementing AND logic gate using perceptron model\n",
        "# importing Python library\n",
        "import numpy as np\n",
        "\n",
        "# define Unit Step Function\n",
        "def unitStep(v):\n",
        "    if v >= 0:\n",
        "        return 1\n",
        "    else:\n",
        "        return 0\n",
        "\n",
        "# design Perceptron Model\n",
        "def perceptronModel(x, w, b):\n",
        "    v = np.dot(w, x) + b\n",
        "    y = unitStep(v)\n",
        "    return y\n",
        "\n",
        "# AND Logic Function\n",
        "# w1 = 1, w2 = 1, b = -1.5\n",
        "def AND_logicFunction(x):\n",
        "    w = np.array([1, 1])\n",
        "    b = -1.5\n",
        "    return perceptronModel(x, w, b)\n",
        "\n",
        "# testing the Perceptron Model\n",
        "test1 = np.array([0, 1])\n",
        "test2 = np.array([1, 1])\n",
        "test3 = np.array([0, 0])\n",
        "test4 = np.array([1, 0])\n",
        "\n",
        "print(\"AND({}, {}) = {}\".format(0, 1, AND_logicFunction(test1)))\n",
        "print(\"AND({}, {}) = {}\".format(1, 1, AND_logicFunction(test2)))\n",
        "print(\"AND({}, {}) = {}\".format(0, 0, AND_logicFunction(test3)))\n",
        "print(\"AND({}, {}) = {}\".format(1, 0, AND_logicFunction(test4)))"
      ],
      "metadata": {
        "colab": {
          "base_uri": "https://localhost:8080/"
        },
        "id": "EdhA1KW5TUgj",
        "outputId": "a009d38e-6ea4-4644-dac7-62196a57095b"
      },
      "execution_count": 8,
      "outputs": [
        {
          "output_type": "stream",
          "name": "stdout",
          "text": [
            "AND(0, 1) = 0\n",
            "AND(1, 1) = 1\n",
            "AND(0, 0) = 0\n",
            "AND(1, 0) = 0\n"
          ]
        }
      ]
    },
    {
      "cell_type": "code",
      "source": [
        "#OR Gate\n",
        "# importing Python library\n",
        "import numpy as np\n",
        "\n",
        "# define Unit Step Function\n",
        "def unitStep(v):\n",
        "    if v >= 0:\n",
        "        return 1\n",
        "    else:\n",
        "        return 0\n",
        "\n",
        "# design Perceptron Model\n",
        "def perceptronModel(x, w, b):\n",
        "    v = np.dot(w, x) + b\n",
        "    y = unitStep(v)\n",
        "    return y\n",
        "\n",
        "# OR Logic Function\n",
        "# w1 = 1, w2 = 1, b = -0.5\n",
        "def OR_logicFunction(x):\n",
        "    w = np.array([1, 1])\n",
        "    b = -0.5\n",
        "    return perceptronModel(x, w, b)\n",
        "\n",
        "# testing the Perceptron Model\n",
        "test1 = np.array([0, 1])\n",
        "test2 = np.array([1, 1])\n",
        "test3 = np.array([0, 0])\n",
        "test4 = np.array([1, 0])\n",
        "\n",
        "print(\"OR({}, {}) = {}\".format(0, 1, OR_logicFunction(test1)))\n",
        "print(\"OR({}, {}) = {}\".format(1, 1, OR_logicFunction(test2)))\n",
        "print(\"OR({}, {}) = {}\".format(0, 0, OR_logicFunction(test3)))\n",
        "print(\"OR({}, {}) = {}\".format(1, 0, OR_logicFunction(test4)))"
      ],
      "metadata": {
        "colab": {
          "base_uri": "https://localhost:8080/"
        },
        "id": "2j6Ad3AsUZOM",
        "outputId": "193c5fd9-3dd3-4f17-e146-9ffba65416c7"
      },
      "execution_count": 9,
      "outputs": [
        {
          "output_type": "stream",
          "name": "stdout",
          "text": [
            "OR(0, 1) = 1\n",
            "OR(1, 1) = 1\n",
            "OR(0, 0) = 0\n",
            "OR(1, 0) = 1\n"
          ]
        }
      ]
    },
    {
      "cell_type": "code",
      "source": [
        "#EXP - NOT gate\n",
        "\n",
        "# importing Python library\n",
        "import numpy as np\n",
        "\n",
        "# define Unit Step Function\n",
        "def unitStep(v):\n",
        "    if v >= 0:\n",
        "        return 1\n",
        "    else:\n",
        "        return 0\n",
        "\n",
        "# design Perceptron Model\n",
        "def perceptronModel(x, w, b):\n",
        "    v = np.dot(w, x) + b\n",
        "    y = unitStep(v)\n",
        "    return y\n",
        "\n",
        "# NOT Logic Function\n",
        "# w = -1, b = 0.5\n",
        "def NOT_logicFunction(x):\n",
        "    w = -1\n",
        "    b = 0.5\n",
        "    return perceptronModel(x, w, b)\n",
        "\n",
        "# testing the Perceptron Model\n",
        "test1 = np.array(1)\n",
        "test2 = np.array(0)\n",
        "\n",
        "print(\"NOT({}) = {}\".format(1, NOT_logicFunction(test1)))\n",
        "print(\"NOT({}) = {}\".format(0, NOT_logicFunction(test2)))"
      ],
      "metadata": {
        "colab": {
          "base_uri": "https://localhost:8080/"
        },
        "id": "2RRoGrLvUsh1",
        "outputId": "41c204c0-35de-4b20-cec9-a88040e3aada"
      },
      "execution_count": 10,
      "outputs": [
        {
          "output_type": "stream",
          "name": "stdout",
          "text": [
            "NOT(1) = 0\n",
            "NOT(0) = 1\n"
          ]
        }
      ]
    },
    {
      "cell_type": "code",
      "source": [
        "import numpy as np\n",
        "from sklearn import linear_model\n",
        "X=np.array([3.78,2.44,2.09,0.14,1.72,1.65,4.92,4.37,4.96,4.52,3.69,5.88]).reshape(-1,1)\n",
        "Y=np.array([0,0,0,0,0,0,1,1,1,1,1,1])\n",
        "print(X)\n",
        "logr=linear_model.LogisticRegression()\n",
        "logr.fit(X,Y)\n",
        "predicted=logr.predict(np.array([3.46]).reshape(-1,1))\n",
        "print(predicted)"
      ],
      "metadata": {
        "colab": {
          "base_uri": "https://localhost:8080/"
        },
        "id": "V0x9ZZk1U9m8",
        "outputId": "a754a19c-ed21-4a95-d5da-be891d6c184b"
      },
      "execution_count": 11,
      "outputs": [
        {
          "output_type": "stream",
          "name": "stdout",
          "text": [
            "[[3.78]\n",
            " [2.44]\n",
            " [2.09]\n",
            " [0.14]\n",
            " [1.72]\n",
            " [1.65]\n",
            " [4.92]\n",
            " [4.37]\n",
            " [4.96]\n",
            " [4.52]\n",
            " [3.69]\n",
            " [5.88]]\n",
            "[0]\n"
          ]
        }
      ]
    },
    {
      "cell_type": "code",
      "source": [
        "import matplotlib.pyplot as plt\n",
        "from scipy import stats\n",
        "x=[23,45,67,77,86,99,107]\n",
        "y=[50,105,160,207,290,320,305]\n",
        "slope, intercept, r, p, std_err=stats.linregress(x,y)\n",
        "def myfun(x):\n",
        "  return slope*x + intercept\n",
        "mylabel=list(map(myfun,x))\n",
        "plt.scatter(x,y)\n",
        "plt.plot(x,mylabel, 'red')\n",
        "plt.title('Linear Regression')\n",
        "plt.show()"
      ],
      "metadata": {
        "colab": {
          "base_uri": "https://localhost:8080/",
          "height": 452
        },
        "id": "QaH8VtmqVz4d",
        "outputId": "0d26d615-24b3-4104-b165-7da6ecc7a4e3"
      },
      "execution_count": 12,
      "outputs": [
        {
          "output_type": "display_data",
          "data": {
            "text/plain": [
              "<Figure size 640x480 with 1 Axes>"
            ],
            "image/png": "[encoded data removed]"
          },
          "metadata": {}
        }
      ]
    },
    {
      "cell_type": "code",
      "source": [
        "# exp :Implementation of XOR Gate using Multi-Layer Perceptron / Error Back\n",
        "Propagation\n",
        "# import Python Libraries\n",
        "import numpy as np\n",
        "from matplotlib import pyplot as plt\n",
        "\n",
        "# Sigmoid Function\n",
        "def sigmoid(z):\n",
        "    return 1 / (1 + np.exp(-z))\n",
        "\n",
        "# Initialization of the neural network parameters\n",
        "# Initialized all the weights in the range of between 0 and 1\n",
        "# Bias values are initialized to 0\n",
        "def initializeParameters(inputFeatures, neuronsInHiddenLayers, outputFeatures):\n",
        "    W1 = np.random.randn(neuronsInHiddenLayers, inputFeatures)\n",
        "    W2 = np.random.randn(outputFeatures, neuronsInHiddenLayers)\n",
        "    b1 = np.zeros((neuronsInHiddenLayers, 1))\n",
        "    b2 = np.zeros((outputFeatures, 1))\n",
        "\n",
        "    parameters = {\"W1\" : W1, \"b1\": b1,\n",
        "                  \"W2\" : W2, \"b2\": b2}\n",
        "    return parameters\n",
        "\n",
        "# Forward Propagation\n",
        "def forwardPropagation(X, Y, parameters):\n",
        "    m = X.shape[1]\n",
        "    W1 = parameters[\"W1\"]\n",
        "    W2 = parameters[\"W2\"]\n",
        "    b1 = parameters[\"b1\"]\n",
        "    b2 = parameters[\"b2\"]\n",
        "\n",
        "    Z1 = np.dot(W1, X) + b1\n",
        "    A1 = sigmoid(Z1)\n",
        "    Z2 = np.dot(W2, A1) + b2\n",
        "    A2 = sigmoid(Z2)\n",
        "\n",
        "    cache = (Z1, A1, W1, b1, Z2, A2, W2, b2)\n",
        "    logprobs = np.multiply(np.log(A2), Y) + np.multiply(np.log(1 - A2), (1 - Y))\n",
        "    cost = -np.sum(logprobs) / m\n",
        "    return cost, cache, A2\n",
        "\n",
        "# Backward Propagation\n",
        "def backwardPropagation(X, Y, cache):\n",
        "    m = X.shape[1]\n",
        "    (Z1, A1, W1, b1, Z2, A2, W2, b2) = cache\n",
        "\n",
        "    dZ2 = A2 - Y\n",
        "    dW2 = np.dot(dZ2, A1.T) / m\n",
        "    db2 = np.sum(dZ2, axis = 1, keepdims = True)\n",
        "\n",
        "    dA1 = np.dot(W2.T, dZ2)\n",
        "    dZ1 = np.multiply(dA1, A1 * (1- A1))\n",
        "    dW1 = np.dot(dZ1, X.T) / m\n",
        "    db1 = np.sum(dZ1, axis = 1, keepdims = True) / m\n",
        "\n",
        "    gradients = {\"dZ2\": dZ2, \"dW2\": dW2, \"db2\": db2,\n",
        "                 \"dZ1\": dZ1, \"dW1\": dW1, \"db1\": db1}\n",
        "    return gradients\n",
        "\n",
        "# Updating the weights based on the negative gradients\n",
        "def updateParameters(parameters, gradients, learningRate):\n",
        "    parameters[\"W1\"] = parameters[\"W1\"] - learningRate * gradients[\"dW1\"]\n",
        "    parameters[\"W2\"] = parameters[\"W2\"] - learningRate * gradients[\"dW2\"]\n",
        "    parameters[\"b1\"] = parameters[\"b1\"] - learningRate * gradients[\"db1\"]\n",
        "    parameters[\"b2\"] = parameters[\"b2\"] - learningRate * gradients[\"db2\"]\n",
        "    return parameters\n",
        "\n",
        "# Model to learn the XOR truth table\n",
        "X = np.array([[0, 0, 1, 1], [0, 1, 0, 1]]) # XOR input\n",
        "Y = np.array([[0, 1, 1, 0]]) # XOR output\n",
        "\n",
        "# Define model parameters\n",
        "neuronsInHiddenLayers = 2 # number of hidden layer neurons (2)\n",
        "inputFeatures = X.shape[0] # number of input features (2)\n",
        "outputFeatures = Y.shape[0] # number of output features (1)\n",
        "parameters = initializeParameters(inputFeatures, neuronsInHiddenLayers, outputFeatures)\n",
        "epoch = 100000\n",
        "learningRate = 0.01\n",
        "losses = np.zeros((epoch, 1))\n",
        "\n",
        "for i in range(epoch):\n",
        "    losses[i, 0], cache, A2 = forwardPropagation(X, Y, parameters)\n",
        "    gradients = backwardPropagation(X, Y, cache)\n",
        "    parameters = updateParameters(parameters, gradients, learningRate)\n",
        "\n",
        "# Evaluating the performance\n",
        "plt.figure()\n",
        "plt.plot(losses)\n",
        "plt.xlabel(\"EPOCHS\")\n",
        "plt.ylabel(\"Loss value\")\n",
        "plt.show()\n",
        "\n",
        "# Testing\n",
        "X = np.array([[1, 1, 0, 0], [0, 1, 0, 1]]) # XOR input\n",
        "cost, _, A2 = forwardPropagation(X, Y, parameters)\n",
        "prediction = (A2 > 0.5) * 1.0\n",
        "# print(A2)\n",
        "print(prediction)"
      ],
      "metadata": {
        "colab": {
          "base_uri": "https://localhost:8080/",
          "height": 466
        },
        "id": "qJNYnsJcaLtB",
        "outputId": "ed5e9976-a3ff-4eca-e9ad-1ea7c08952d8"
      },
      "execution_count": 13,
      "outputs": [
        {
          "output_type": "display_data",
          "data": {
            "text/plain": [
              "<Figure size 640x480 with 1 Axes>"
            ],
            "image/png": "[encoded data removed]"
          },
          "metadata": {}
        },
        {
          "output_type": "stream",
          "name": "stdout",
          "text": [
            "[[1. 0. 0. 1.]]\n"
          ]
        }
      ]
    },
    {
      "cell_type": "code",
      "source": [
        "import numpy as np\n",
        "from sklearn.datasets import make_blobs\n",
        "import matplotlib.pyplot as plt\n",
        "from sklearn.model_selection import train_test_split\n",
        "from sklearn.preprocessing import StandardScaler\n",
        "class Perceptron:\n",
        "  def _init__(self, num_inputs, learning_rate=0.01):\n",
        "    self.weights = np.random.rand(num_inputs+1)\n",
        "    self.learning_rate = learning_rate\n",
        "  def linear(self, inputs):\n",
        "    Z= inputs @ self.weights [1:].T ++ self.weights[0]\n",
        "    return Z\n",
        "  def Heaviside_step_fn(self,z):\n",
        "    if z>=0:\n",
        "      return 1\n",
        "    else:\n",
        "      return 0\n",
        "  def predict(self, inputs):\n",
        "    Z = self.linear(inputs)\n",
        "    try:\n",
        "      pred = []\n",
        "      for z in Z:\n",
        "        pred.append(self.Heaviside_step_fn(z))\n",
        "    except:\n",
        "      return self.Heaviside_step_fn(Z)\n",
        "    return pred\n",
        "#define the loss function\n",
        "  def loss(self, prediction, target):\n",
        "    loss = (prediction-target)\n",
        "    return loss\n",
        "  def train(self, inputs, target):\n",
        "    prediction = self.predict(inputs)\n",
        "    error = self.loss (prediction, target)\n",
        "    self.weights[1:] += self.learning_rate * error*inputs\n",
        "    self.weights[0] += self.learning_rate * error\n",
        "  def fit(self,x,y, num_epochs):\n",
        "    for epoch in range(num_epochs):\n",
        "      for inputs, target in zip(x,y):\n",
        "        self.train(inputs, target)\n",
        "X,y = make_blobs (n_samples=1000,n_features=2,centers=2,cluster_std=3,random_state=23)\n",
        "X_train, X_test, Y_train, y_test = train_test_split(X,y,test_size = 0.2,random_state=23,shuffle=True)\n",
        "scaler =StandardScaler()\n",
        "X_train = scaler.fit_transform(X_train)\n",
        "X_test = scaler.transform(X_test)\n",
        "np.random.seed(23)\n",
        "perceptron = Perceptron(num_inputs=X_train.shape[1])\n",
        "perceptron.fit(X_train, y_train, num_epochs=100)\n",
        "pred =perceptron.predict(X_test)\n",
        "accuracy = np.mean(pred!= y_test)\n",
        "print(\"Accuracy:\", accuracy)"
      ],
      "metadata": {
        "colab": {
          "base_uri": "https://localhost:8080/",
          "height": 211
        },
        "id": "_yQt5p-tgOvl",
        "outputId": "70bfc037-4cb1-49a6-b1b6-c357258128be"
      },
      "execution_count": 20,
      "outputs": [
        {
          "output_type": "error",
          "ename": "TypeError",
          "evalue": "Perceptron() takes no arguments",
          "traceback": [
            "\u001b[0;31m---------------------------------------------------------------------------\u001b[0m",
            "\u001b[0;31mTypeError\u001b[0m                                 Traceback (most recent call last)",
            "\u001b[0;32m<ipython-input-20-a886afb8e6c8>\u001b[0m in \u001b[0;36m<cell line: 46>\u001b[0;34m()\u001b[0m\n\u001b[1;32m     44\u001b[0m \u001b[0mX_test\u001b[0m \u001b[0;34m=\u001b[0m \u001b[0mscaler\u001b[0m\u001b[0;34m.\u001b[0m\u001b[0mtransform\u001b[0m\u001b[0;34m(\u001b[0m\u001b[0mX_test\u001b[0m\u001b[0;34m)\u001b[0m\u001b[0;34m\u001b[0m\u001b[0;34m\u001b[0m\u001b[0m\n\u001b[1;32m     45\u001b[0m \u001b[0mnp\u001b[0m\u001b[0;34m.\u001b[0m\u001b[0mrandom\u001b[0m\u001b[0;34m.\u001b[0m\u001b[0mseed\u001b[0m\u001b[0;34m(\u001b[0m\u001b[0;36m23\u001b[0m\u001b[0;34m)\u001b[0m\u001b[0;34m\u001b[0m\u001b[0;34m\u001b[0m\u001b[0m\n\u001b[0;32m---> 46\u001b[0;31m \u001b[0mperceptron\u001b[0m \u001b[0;34m=\u001b[0m \u001b[0mPerceptron\u001b[0m\u001b[0;34m(\u001b[0m\u001b[0mnum_inputs\u001b[0m\u001b[0;34m=\u001b[0m\u001b[0mX_train\u001b[0m\u001b[0;34m.\u001b[0m\u001b[0mshape\u001b[0m\u001b[0;34m[\u001b[0m\u001b[0;36m1\u001b[0m\u001b[0;34m]\u001b[0m\u001b[0;34m)\u001b[0m\u001b[0;34m\u001b[0m\u001b[0;34m\u001b[0m\u001b[0m\n\u001b[0m\u001b[1;32m     47\u001b[0m \u001b[0mperceptron\u001b[0m\u001b[0;34m.\u001b[0m\u001b[0mfit\u001b[0m\u001b[0;34m(\u001b[0m\u001b[0mX_train\u001b[0m\u001b[0;34m,\u001b[0m \u001b[0my_train\u001b[0m\u001b[0;34m,\u001b[0m \u001b[0mnum_epochs\u001b[0m\u001b[0;34m=\u001b[0m\u001b[0;36m100\u001b[0m\u001b[0;34m)\u001b[0m\u001b[0;34m\u001b[0m\u001b[0;34m\u001b[0m\u001b[0m\n\u001b[1;32m     48\u001b[0m \u001b[0mpred\u001b[0m \u001b[0;34m=\u001b[0m\u001b[0mperceptron\u001b[0m\u001b[0;34m.\u001b[0m\u001b[0mpredict\u001b[0m\u001b[0;34m(\u001b[0m\u001b[0mX_test\u001b[0m\u001b[0;34m)\u001b[0m\u001b[0;34m\u001b[0m\u001b[0;34m\u001b[0m\u001b[0m\n",
            "\u001b[0;31mTypeError\u001b[0m: Perceptron() takes no arguments"
          ]
        }
      ]
    },
    {
      "cell_type": "code",
      "source": [],
      "metadata": {
        "colab": {
          "base_uri": "https://localhost:8080/",
          "height": 211
        },
        "id": "tDDKh7Hkhp7A",
        "outputId": "5c5227f1-35a9-44eb-e679-4ed4d4baa5fe"
      },
      "execution_count": 18,
      "outputs": [
        {
          "output_type": "error",
          "ename": "TypeError",
          "evalue": "Perceptron() takes no arguments",
          "traceback": [
            "\u001b[0;31m---------------------------------------------------------------------------\u001b[0m",
            "\u001b[0;31mTypeError\u001b[0m                                 Traceback (most recent call last)",
            "\u001b[0;32m<ipython-input-18-a941568c913d>\u001b[0m in \u001b[0;36m<cell line: 5>\u001b[0;34m()\u001b[0m\n\u001b[1;32m      3\u001b[0m \u001b[0mX_test\u001b[0m \u001b[0;34m=\u001b[0m \u001b[0mscaler\u001b[0m\u001b[0;34m.\u001b[0m\u001b[0mtransform\u001b[0m\u001b[0;34m(\u001b[0m\u001b[0mX_test\u001b[0m\u001b[0;34m)\u001b[0m\u001b[0;34m\u001b[0m\u001b[0;34m\u001b[0m\u001b[0m\n\u001b[1;32m      4\u001b[0m \u001b[0mnp\u001b[0m\u001b[0;34m.\u001b[0m\u001b[0mrandom\u001b[0m\u001b[0;34m.\u001b[0m\u001b[0mseed\u001b[0m \u001b[0;34m(\u001b[0m\u001b[0;36m23\u001b[0m\u001b[0;34m)\u001b[0m\u001b[0;34m\u001b[0m\u001b[0;34m\u001b[0m\u001b[0m\n\u001b[0;32m----> 5\u001b[0;31m \u001b[0mperceptron\u001b[0m \u001b[0;34m=\u001b[0m \u001b[0mPerceptron\u001b[0m\u001b[0;34m(\u001b[0m\u001b[0mnum_inputs\u001b[0m\u001b[0;34m=\u001b[0m\u001b[0mX_train\u001b[0m\u001b[0;34m.\u001b[0m\u001b[0mshape\u001b[0m\u001b[0;34m[\u001b[0m\u001b[0;36m1\u001b[0m\u001b[0;34m]\u001b[0m\u001b[0;34m)\u001b[0m\u001b[0;34m\u001b[0m\u001b[0;34m\u001b[0m\u001b[0m\n\u001b[0m\u001b[1;32m      6\u001b[0m \u001b[0mperceptron\u001b[0m\u001b[0;34m.\u001b[0m\u001b[0mfit\u001b[0m\u001b[0;34m(\u001b[0m\u001b[0mX_train\u001b[0m\u001b[0;34m,\u001b[0m \u001b[0my_train\u001b[0m\u001b[0;34m,\u001b[0m \u001b[0mnum_epochs\u001b[0m\u001b[0;34m=\u001b[0m\u001b[0;36m100\u001b[0m\u001b[0;34m)\u001b[0m\u001b[0;34m\u001b[0m\u001b[0;34m\u001b[0m\u001b[0m\n\u001b[1;32m      7\u001b[0m \u001b[0mpred\u001b[0m \u001b[0;34m=\u001b[0m\u001b[0mperceptron\u001b[0m\u001b[0;34m.\u001b[0m\u001b[0mpredict\u001b[0m\u001b[0;34m(\u001b[0m\u001b[0mX_test\u001b[0m\u001b[0;34m)\u001b[0m\u001b[0;34m\u001b[0m\u001b[0;34m\u001b[0m\u001b[0m\n",
            "\u001b[0;31mTypeError\u001b[0m: Perceptron() takes no arguments"
          ]
        }
      ]
    },
    {
      "cell_type": "code",
      "source": [],
      "metadata": {
        "id": "i41o1uTah6C8"
      },
      "execution_count": null,
      "outputs": []
    }
  ]
}